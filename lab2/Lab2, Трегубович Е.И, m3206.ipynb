{
 "cells": [
  {
   "cell_type": "markdown",
   "source": [
    "### Трегубович Е.И., m3206\n",
    "#### вариант 16(5,7)\n",
    "# Лабораторная работа №2"
   ],
   "metadata": {
    "collapsed": false
   }
  },
  {
   "cell_type": "code",
   "execution_count": 15,
   "id": "f37e9087",
   "metadata": {
    "ExecuteTime": {
     "start_time": "2023-04-25T11:36:45.590443Z",
     "end_time": "2023-04-25T11:36:45.610156Z"
    }
   },
   "outputs": [],
   "source": [
    "import numpy as np\n",
    "import matplotlib.pyplot as plt\n",
    "from scipy.optimize import minimize"
   ]
  },
  {
   "cell_type": "markdown",
   "id": "8cbd8e3f",
   "metadata": {},
   "source": [
    "## Схема эксперимента\n",
    "Сгенерируйте 500 выборок объема 50 с указанным значением параметра $\\theta$.\n",
    "Сколько раз оценка отклонится от истинного значения параметра более чем на 0.01?\n",
    "То же самое сделать для объемов выборки 100, 500, 1000, 2500.\n",
    "Визуализируйте результат."
   ]
  },
  {
   "cell_type": "markdown",
   "source": [
    "## 5\n",
    "Найти оценку максимального правдоподобия параметра $\\theta$ для распределения с плотностью\n",
    "$$f_\\theta(x)=\\frac{3x^2}{\\sqrt{2\\pi}}\\exp\\left(-\\frac{(\\theta-x^3)^2}{2}\\right)$$\n",
    "Найти её смещение, дисперсию и среднеквадратическую ошибку.\n",
    "Какими свойствами обладает данная оценка?\n",
    "Эксперимент при $\\theta = 5$"
   ],
   "metadata": {
    "collapsed": false
   }
  },
  {
   "cell_type": "markdown",
   "source": [
    "Для нахождения оценки максимального правдоподобия параметра $\\theta$ необходимо найти такое значение $\\theta$, при котором функция правдоподобия $L(\\theta)$ будет максимальной. Для этого найдем логарифмическую функцию правдоподобия:\n",
    "$$\\ln L(\\theta) = \\sum_{i=1}^n \\ln f_\\theta(x_i) = \\sum_{i=1}^n \\left[\\ln\\left(\\frac{3x_i^2}{\\sqrt{2\\pi}}\\right) - \\frac{(\\theta-x_i^3)^2}{2}\\right]$$\n",
    "Для максимизации этой функции найдем ее производную по $\\theta$ и приравняем ее к нулю:\n",
    "$$\\frac{\\partial \\ln L(\\theta)}{\\partial \\theta} = -\\sum_{i=1}^n (x_i^3 - \\theta) \\cdot f_\\theta(x_i) = 0$$\n",
    "Отсюда получаем:\n",
    "$$\\hat{\\theta}_{ML} = \\frac{1}{n} \\sum_{i=1}^n x_i^3$$\n",
    "Для нахождения смещения оценки рассмотрим математическое ожидание:\n",
    "$$E(\\hat{\\theta}_{ML}) = E\\left(\\frac{1}{n} \\sum_{i=1}^n x_i^3\\right) = \\frac{1}{n} \\sum_{i=1}^n E(x_i^3) = \\frac{1}{n} \\sum_{i=1}^n (\\theta^3 + 3\\theta) = \\theta^3 + 3\\theta$$\n",
    "Отсюда смещение равно:\n",
    "$$bias(\\hat{\\theta}_{ML}) = E(\\hat{\\theta}_{ML}) - \\theta = \\theta^3 + 3\\theta - \\theta = \\theta^3 + 2\\theta$$\n",
    "Для нахождения дисперсии оценки воспользуемся формулой:\n",
    "$$Var(\\hat{\\theta}_{ML}) = E(\\hat{\\theta}_{ML}^2) - E(\\hat{\\theta}_{ML})^2$$\n",
    "Найдем сначала $E(\\hat{\\theta}_{ML}^2)$:\n",
    "$$E(\\hat{\\theta}_{ML}^2) = E\\left(\\frac{1}{n^2} \\sum_{i,j=1}^n x_i^3 x_j^3\\right) = \\frac{1}{n^2} \\sum_{i,j=1}^n E(x_i^3 x_j^3)$$\n",
    "Если $i=j$, то $E(x_i^6) = 15\\theta^4 + 30\\theta^2$, если $i\\neq j$, то $E(x_i^3 x_j^3) = (\\theta^3 + 3\\theta)^2$. Отсюда получаем:\n",
    "$$E(\\hat{\\theta}_{ML}^2) = \\frac{1}{n} (15\\theta^4 + 30\\theta^2) + \\frac{n(n-1)}{n^2} (\\theta^3 + 3\\theta)^2$$\n",
    "Теперь найдем $E(\\hat{\\theta}_{ML})^2$:\n",
    "$$(E(\\hat{\\theta}_{ML}))^2 = (\\theta^3 + 3\\theta)^2$$\n",
    "И, наконец, дисперсия равна:\n",
    "$$Var(\\hat{\\theta}_{ML}) = E(\\hat{\\theta}_{ML}^2) - E(\\hat{\\theta}_{ML})^2 = \\frac{15}{n}\\theta^4 + \\frac{6}{n}\\theta^2 + \\frac{n-1}{n}\\cdot (\\theta^3 + 3\\theta)^2 - (\\theta^3 + 3\\theta)^2$$\n",
    "Среднеквадратическая ошибка оценки равна квадратному корню из дисперсии:\n",
    "$$MSE(\\hat{\\theta}_{ML}) = \\sqrt{Var(\\hat{\\theta}_{ML})}$$\n",
    "Оценка максимального правдоподобия обладает свойствами состоятельности и асимптотической нормальности."
   ],
   "metadata": {
    "collapsed": false
   }
  },
  {
   "cell_type": "markdown",
   "source": [
    "Определяем функцию правдоподобия"
   ],
   "metadata": {
    "collapsed": false
   }
  },
  {
   "cell_type": "code",
   "execution_count": 16,
   "outputs": [],
   "source": [
    "def likelihood(theta, x):\n",
    "    return np.prod(3*x**2 / np.sqrt(2*np.pi) * np.exp(-(theta-x**3)**2/2))"
   ],
   "metadata": {
    "collapsed": false,
    "ExecuteTime": {
     "start_time": "2023-04-25T11:36:45.597610Z",
     "end_time": "2023-04-25T11:36:45.610911Z"
    }
   }
  },
  {
   "cell_type": "markdown",
   "source": [
    "Генерируем выборки"
   ],
   "metadata": {
    "collapsed": false
   }
  },
  {
   "cell_type": "code",
   "execution_count": 17,
   "outputs": [
    {
     "name": "stdout",
     "output_type": "stream",
     "text": [
      "n=50, количество ошибок=0\n",
      "n=100, количество ошибок=0\n",
      "n=500, количество ошибок=0\n",
      "n=1000, количество ошибок=0\n",
      "n=2500, количество ошибок=0\n"
     ]
    }
   ],
   "source": [
    "theta = 5\n",
    "n_list = [50, 100, 500, 1000, 2500]\n",
    "num_trials = 500\n",
    "results = []\n",
    "\n",
    "for n in n_list:\n",
    "    errors = 0\n",
    "    for i in range(num_trials):\n",
    "        x = np.random.normal(theta, 1, n)\n",
    "        # Находим оценку максимального правдоподобия\n",
    "        res = minimize(lambda t: -likelihood(t, x), theta)\n",
    "        est_theta = res.x[0]\n",
    "        # Проверяем, насколько оценка отклонилась от истинного значения\n",
    "        if abs(est_theta - theta) > 0.01:\n",
    "            errors += 1\n",
    "    print(f\"n={n}, количество ошибок={errors}\")\n",
    "    results.append(errors)"
   ],
   "metadata": {
    "collapsed": false,
    "ExecuteTime": {
     "start_time": "2023-04-25T11:36:45.603408Z",
     "end_time": "2023-04-25T11:36:45.901512Z"
    }
   }
  },
  {
   "cell_type": "markdown",
   "source": [
    "График"
   ],
   "metadata": {
    "collapsed": false
   }
  },
  {
   "cell_type": "code",
   "execution_count": 18,
   "outputs": [
    {
     "data": {
      "text/plain": "<Figure size 640x480 with 1 Axes>",
      "image/png": "[encoded data removed]"
     },
     "metadata": {},
     "output_type": "display_data"
    }
   ],
   "source": [
    "plt.plot(n_list, results)\n",
    "plt.xlabel('Размер выборки')\n",
    "plt.ylabel('Количество неудач')\n",
    "plt.show()"
   ],
   "metadata": {
    "collapsed": false,
    "ExecuteTime": {
     "start_time": "2023-04-25T11:36:45.903331Z",
     "end_time": "2023-04-25T11:36:45.964077Z"
    }
   }
  },
  {
   "cell_type": "markdown",
   "source": [],
   "metadata": {
    "collapsed": false
   }
  },
  {
   "cell_type": "markdown",
   "source": [
    "## 7\n",
    " С помощью метода моментов найти оценку параметра $\\theta$ геометрического распределения (указать вид используемой параметризации).\n",
    " Какими свойствами обладает оценка?\n",
    " Эксперимент при $\\theta = 0.3$"
   ],
   "metadata": {
    "collapsed": false
   }
  },
  {
   "cell_type": "markdown",
   "source": [
    "Геометрическое распределение с вероятностью успеха $p$ имеет функцию вероятности:\n",
    "$$P(X=k)=(1-p)^{k-1}p, \\quad k=1,2,\\dots$$\n",
    "Тогда математическое ожидание и дисперсия равны:\n",
    "$$E(X)=\\frac{1}{p}, \\quad Var(X)=\\frac{1-p}{p^2}.$$\n",
    "Используя метод моментов, приравняем выборочное среднее к теоретическому:\n",
    "$$\\bar{X}=\\frac{1}{n}\\sum\\limits_{i=1}^n X_i \\approx E(X)=\\frac{1}{p}.$$\n",
    "Отсюда оценка параметра имеет вид:\n",
    "$$\\hat{p}=\\frac{1}{\\bar{X}}.$$\n",
    "Оценка $\\hat{p}$ является состоятельной."
   ],
   "metadata": {
    "collapsed": false
   }
  },
  {
   "cell_type": "code",
   "execution_count": 19,
   "outputs": [
    {
     "name": "stdout",
     "output_type": "stream",
     "text": [
      "n=50, количество ошибок=406\n",
      "n=100, количество ошибок=338\n",
      "n=500, количество ошибок=214\n",
      "n=1000, количество ошибок=100\n",
      "n=2500, количество ошибок=29\n"
     ]
    }
   ],
   "source": [
    "theta = 0.3\n",
    "n_list = [50, 100, 500, 1000, 2500]\n",
    "num_trials = 500\n",
    "\n",
    "results = []\n",
    "for n in n_list:\n",
    "    errors = 0\n",
    "    for i in range(num_trials):\n",
    "        x = np.random.geometric(p=theta, size=n)\n",
    "        p_hat = 1 / np.mean(x)\n",
    "        if abs(p_hat - theta) > 0.01:\n",
    "            errors += 1\n",
    "    print(f\"n={n}, количество ошибок={errors}\")\n",
    "    results.append(errors)"
   ],
   "metadata": {
    "collapsed": false,
    "ExecuteTime": {
     "start_time": "2023-04-25T11:36:45.966381Z",
     "end_time": "2023-04-25T11:36:46.021646Z"
    }
   }
  },
  {
   "cell_type": "markdown",
   "source": [
    "График"
   ],
   "metadata": {
    "collapsed": false
   }
  },
  {
   "cell_type": "code",
   "execution_count": 20,
   "outputs": [
    {
     "data": {
      "text/plain": "<Figure size 640x480 with 1 Axes>",
      "image/png": "[encoded data removed]"
     },
     "metadata": {},
     "output_type": "display_data"
    }
   ],
   "source": [
    "plt.plot(n_list, results)\n",
    "plt.xlabel('Размер выборки')\n",
    "plt.ylabel('Количество неудач')\n",
    "plt.show()"
   ],
   "metadata": {
    "collapsed": false,
    "ExecuteTime": {
     "start_time": "2023-04-25T11:36:46.038823Z",
     "end_time": "2023-04-25T11:36:46.096982Z"
    }
   }
  }
 ],
 "metadata": {
  "jupytext": {
   "formats": "ipynb,py:percent"
  },
  "kernelspec": {
   "display_name": "Python 3 (ipykernel)",
   "language": "python",
   "name": "python3"
  },
  "language_info": {
   "codemirror_mode": {
    "name": "ipython",
    "version": 3
   },
   "file_extension": ".py",
   "mimetype": "text/x-python",
   "name": "python",
   "nbconvert_exporter": "python",
   "pygments_lexer": "ipython3",
   "version": "3.10.9"
  }
 },
 "nbformat": 4,
 "nbformat_minor": 5
}
