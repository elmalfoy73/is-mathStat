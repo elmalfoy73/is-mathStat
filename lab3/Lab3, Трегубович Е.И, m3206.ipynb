{
 "cells": [
  {
   "cell_type": "markdown",
   "source": [
    "### Трегубович Е.И., m3206\n",
    "#### вариант 16(3,3)\n",
    "# Лабораторная работа №3"
   ],
   "metadata": {
    "collapsed": false
   }
  },
  {
   "cell_type": "code",
   "execution_count": 1,
   "id": "f37e9087",
   "metadata": {
    "ExecuteTime": {
     "start_time": "2023-05-23T13:09:53.648273Z",
     "end_time": "2023-05-23T13:09:55.763800Z"
    }
   },
   "outputs": [],
   "source": [
    "import scipy.stats as st\n",
    "import numpy as np\n",
    "from scipy.stats import norm\n",
    "from scipy.stats import t"
   ]
  },
  {
   "cell_type": "markdown",
   "source": [
    "## Задача 1\n",
    "Предъявите доверительный интервал уровня $1 - a$ для указанного параметра при данных предположениях (с обоснованиями). Сгенерируйте 2 выборки объёма объёма 25 и посчитайте доверительный интервал. Повторить 1000 раз. Посчитайте, сколько раз 95-процентный доверительный интервал покрывает реальное значение параметра. То же самое сделайте для объема выборки 10000. Как изменился результат? Как объяснить?\n",
    "Даны две независимые выборки $X, Y$ из нормальных распределений $N(\\mu1, \\sigma12), N(\\mu2, \\sigma2)$ объема $n, m$ соответственно."
   ],
   "metadata": {
    "collapsed": false
   }
  },
  {
   "cell_type": "markdown",
   "source": [
    "### 1. По теореме Фишера от нормального распределения перейдем к распределению $\\chi^2$.\n",
    "\n",
    "По теореме Фишера $\\frac{nS*^2}{\\sigma^2}$ ~ $\\chi^2(n-1)$.\n",
    "Тогда $\\frac{nS_*^2(X)}{\\sigma_1^2}$ ~ $\\chi^2(n-1)$, $\\frac{mS_*^2(Y)}{\\sigma_2^2}$ ~ $\\chi^2(m-1)$\n",
    "\n",
    "Пусть $ X_1,\\ldots,X_n \\sim \\mathrm{N}(\\mu,\\sigma^2) $.\n",
    "Тогда $ \\sqrt{n} \\cdot \\frac{\\overline{X} - \\mu}{\\sigma} \\sim \\mathrm{N}(0,1) $\n",
    "Тогда $ \\overline{X} $ и $ S^2 $ независимы;\n",
    "Тогда $ \\frac{(n-1)\\cdot S^2}{\\sigma^2} \\sim \\chi^2_{n-1} $> имеет распределение хи-квадрат с $n-1$ степенями свободы"
   ],
   "metadata": {
    "collapsed": false
   }
  },
  {
   "cell_type": "markdown",
   "source": [
    "### 2. Теперь от распределений $\\chi^2$ перейдем к распределению Фишера $F(m, n) = \\frac{n\\chi^2(m)}{m\\chi^2(n)}$\n",
    "\n",
    "Возьмем наши распределения $\\chi^2$ и используем их для распределения Фишера.\n",
    "\n",
    "$\\frac{nS_*^2(X)}{\\sigma_1^2(n-1)} \\frac{\\sigma_2^2(m-1)}{mS_*^2(Y)} = \\frac{\\chi^2(n-1)}{n-1} \\frac{m-1}{\\chi^2(m-1)} = F(n-1, m-1)$"
   ],
   "metadata": {
    "collapsed": false
   }
  },
  {
   "cell_type": "markdown",
   "source": [
    "### 3. Поставим задачу о нахождении доверительного интервала для искомой величины, используя квантили распределения Фишера.\n",
    "\n",
    "$$ P(q_{\\frac{\\alpha}{2}} \\le \\frac{nS_*^2(X)}{n-1} \\frac{m-1}{mS_*^2(Y)} \\frac{\\sigma_2^2}{\\sigma_1^2} \\le q_{1-\\frac{\\alpha}{2}}) = 1-\\alpha $$\n",
    "\n",
    "\n",
    "$$ P(q_{\\frac{\\alpha}{2}}\\frac{m(n-1)S_*^2(Y)}{n(m-1)S_*^2(X)} \\le \\frac{\\sigma_2^2}{\\sigma_1^2} \\le q_{1-\\frac{\\alpha}{2}}\\frac{m(n-1)S_*^2(Y)}{n(m-1)S_*^2(X)}) = 1- \\alpha$$\n",
    "\n",
    "$$P(\\frac{n(m-1)S_*^2(X)}{q_{1-\\frac{\\alpha}{2}}m(n-1)S_*^2(Y)} \\le \\frac{\\sigma_1^2}{\\sigma_2^2} \\le \\frac{n(m-1)S_*^2(X)}{q_{\\frac{\\alpha}{2}}m(n-1)S_*^2(Y)}) = 1 - \\alpha$$"
   ],
   "metadata": {
    "collapsed": false
   }
  },
  {
   "cell_type": "markdown",
   "source": [
    "### Для эксперимента: $\\mu_1 = 0, \\mu_2 = 0, \\sigma_1^2=2, \\sigma_2^2=1$"
   ],
   "metadata": {
    "collapsed": false
   }
  },
  {
   "cell_type": "markdown",
   "source": [
    "Сгенерируем две выборки объема 25 из нормального распределения $N(0, 1)$"
   ],
   "metadata": {
    "collapsed": false
   }
  },
  {
   "cell_type": "code",
   "execution_count": 2,
   "outputs": [],
   "source": [
    "np.random.seed(42)\n",
    "\n",
    "sample1 = np.random.normal(0, 1, size=25)\n",
    "sample2 = np.random.normal(0, 1, size=25)"
   ],
   "metadata": {
    "collapsed": false,
    "ExecuteTime": {
     "start_time": "2023-05-23T13:09:55.765097Z",
     "end_time": "2023-05-23T13:09:55.767034Z"
    }
   }
  },
  {
   "cell_type": "markdown",
   "source": [
    "Посчитаем доверительный интервал для разности средних двух выборок:"
   ],
   "metadata": {
    "collapsed": false
   }
  },
  {
   "cell_type": "code",
   "execution_count": 3,
   "outputs": [
    {
     "name": "stdout",
     "output_type": "stream",
     "text": [
      "95% доверительный интервал для разности средних: (-0.41133502871526917, 0.6591984151074654)\n"
     ]
    }
   ],
   "source": [
    "alpha = 0.05\n",
    "n = len(sample1)\n",
    "m = len(sample2)\n",
    "x_mean = np.mean(sample1)\n",
    "y_mean = np.mean(sample2)\n",
    "x_var = np.var(sample1, ddof=1)\n",
    "y_var = np.var(sample2, ddof=1)\n",
    "t_value = t.ppf(1-alpha/2, n+m-2)\n",
    "\n",
    "ci_low = x_mean - y_mean - t_value*np.sqrt(((n-1)*x_var + (m-1)*y_var)/(n+m-2))*np.sqrt(1/n+1/m)\n",
    "ci_high = x_mean - y_mean + t_value*np.sqrt(((n-1)*x_var + (m-1)*y_var)/(n+m-2))*np.sqrt(1/n+1/m)\n",
    "\n",
    "print(\"95% доверительный интервал для разности средних:\", (ci_low, ci_high))"
   ],
   "metadata": {
    "collapsed": false,
    "ExecuteTime": {
     "start_time": "2023-05-23T13:09:55.771366Z",
     "end_time": "2023-05-23T13:09:55.773210Z"
    }
   }
  },
  {
   "cell_type": "markdown",
   "source": [
    "Повторим эту процедуру 1000 раз и посчитаем, сколько раз 95-процентный доверительный интервал покрывает нулевое значение разности средних:"
   ],
   "metadata": {
    "collapsed": false
   }
  },
  {
   "cell_type": "code",
   "execution_count": 4,
   "outputs": [
    {
     "name": "stdout",
     "output_type": "stream",
     "text": [
      "Доля покрытий нулевого значения разности средних: 0.949\n"
     ]
    }
   ],
   "source": [
    "np.random.seed(42)\n",
    "\n",
    "num_trials = 1000\n",
    "count_covered = 0\n",
    "\n",
    "for i in range(num_trials):\n",
    "    sample1 = np.random.normal(0, 1, size=25)\n",
    "    sample2 = np.random.normal(0, 1, size=25)\n",
    "    x_mean = np.mean(sample1)\n",
    "    y_mean = np.mean(sample2)\n",
    "    x_var = np.var(sample1, ddof=1)\n",
    "    y_var = np.var(sample2, ddof=1)\n",
    "    t_value = t.ppf(1-alpha/2, n+m-2)\n",
    "\n",
    "    ci_low = x_mean - y_mean - t_value*np.sqrt(((n-1)*x_var + (m-1)*y_var)/(n+m-2))*np.sqrt(1/n+1/m)\n",
    "    ci_high = x_mean - y_mean + t_value*np.sqrt(((n-1)*x_var + (m-1)*y_var)/(n+m-2))*np.sqrt(1/n+1/m)\n",
    "\n",
    "    if ci_low < 0 and ci_high > 0:\n",
    "        count_covered += 1\n",
    "\n",
    "print(\"Доля покрытий нулевого значения разности средних:\", count_covered/num_trials)"
   ],
   "metadata": {
    "collapsed": false,
    "ExecuteTime": {
     "start_time": "2023-05-23T13:09:55.776621Z",
     "end_time": "2023-05-23T13:09:55.857802Z"
    }
   }
  },
  {
   "cell_type": "markdown",
   "source": [
    "## Задача 2\n",
    " Постройте асимптотический доверительный интервал уровня $1 − \\alpha$ для указанного параметра. Проведите эксперимент по схеме, аналогичной первой задаче.\n",
    "$U[−\\theta, \\theta]; \\theta = 5;$\n"
   ],
   "metadata": {
    "collapsed": false
   }
  },
  {
   "cell_type": "markdown",
   "source": [
    "Асимптотический доверительный интервал уровня $1-\\alpha$ для параметра $\\theta$ в равномерном распределении $U[-\\theta, \\theta]$ можно построить по формуле:\n",
    "$$\\left(\\frac{X_{(1)}+X_{(n)}}{2} - \\frac{z_{1-\\frac{\\alpha}{2}}}{\\sqrt{n}}(X_{(n)}-X_{(1)}), \\frac{X_{(1)}+X_{(n)}}{2} + \\frac{z_{1-\\frac{\\alpha}{2}}}{\\sqrt{n}}(X_{(n)}-X_{(1)})\\right),$$\n",
    "где $X_{(1)}$ и $X_{(n)}$ - минимальное и максимальное значения выборки, $z_{1-\\frac{\\alpha}{2}}$ - квантиль стандартного нормального распределения уровня $1-\\frac{\\alpha}{2}$.\n",
    "\n",
    "Для выборки объема $n=25$ и $n=10000$:\n"
   ],
   "metadata": {
    "collapsed": false
   }
  },
  {
   "cell_type": "code",
   "execution_count": 5,
   "outputs": [
    {
     "name": "stdout",
     "output_type": "stream",
     "text": [
      "Доля покрытий реального значения параметра theta для выборки объема 25: 0.953\n",
      "Доля покрытий реального значения параметра theta для выборки объема 10000: 0.956\n"
     ]
    }
   ],
   "source": [
    "np.random.seed(42)\n",
    "\n",
    "alpha = 0.05\n",
    "num_trials = 1000\n",
    "count_covered_25 = 0\n",
    "count_covered_10000 = 0\n",
    "\n",
    "for i in range(num_trials):\n",
    "    sample = np.random.uniform(-5, 5, size=25)\n",
    "    x_mean = np.mean(sample)\n",
    "    sigma = 5/np.sqrt(3)\n",
    "    z_value = norm.ppf(1-alpha/2)\n",
    "    ci_low = x_mean - z_value*sigma/np.sqrt(25)\n",
    "    ci_high = x_mean + z_value*sigma/np.sqrt(25)\n",
    "    if ci_low < 0 < ci_high:\n",
    "        count_covered_25 += 1\n",
    "\n",
    "for i in range(num_trials):\n",
    "    sample = np.random.uniform(-5, 5, size=10000)\n",
    "    x_mean = np.mean(sample)\n",
    "    sigma = 5/np.sqrt(3)\n",
    "    z_value = norm.ppf(1-alpha/2)\n",
    "    ci_low = x_mean - z_value*sigma/np.sqrt(10000)\n",
    "    ci_high = x_mean + z_value*sigma/np.sqrt(10000)\n",
    "    if ci_low < 0 < ci_high:\n",
    "        count_covered_10000 += 1\n",
    "\n",
    "print(\"Доля покрытий реального значения параметра theta для выборки объема 25:\", count_covered_25/num_trials)\n",
    "print(\"Доля покрытий реального значения параметра theta для выборки объема 10000:\", count_covered_10000/num_trials)"
   ],
   "metadata": {
    "collapsed": false,
    "ExecuteTime": {
     "start_time": "2023-05-23T13:09:55.871203Z",
     "end_time": "2023-05-23T13:09:55.995154Z"
    }
   }
  },
  {
   "cell_type": "markdown",
   "source": [
    "Как видно из результатов, при увеличении объема выборки доля покрытий реального значения параметра увеличивается. Это объясняется тем, что при большом объеме выборки стандартная ошибка уменьшается, что приводит к уменьшению ширины доверительного интервала и увеличению точности оценки.2"
   ],
   "metadata": {
    "collapsed": false
   },
   "outputs": [
    {
     "ename": "SyntaxError",
     "evalue": "invalid syntax (3641286480.py, line 1)",
     "output_type": "error",
     "traceback": [
      "\u001B[0;36m  Cell \u001B[0;32mIn[2], line 1\u001B[0;36m\u001B[0m\n\u001B[0;31m    Для построения асимптотического доверительного интервала уровня $1-\\alpha$ для параметра $\\theta$ в распределении $U[-\\theta,\\theta]$ воспользуемся предельной теоремой об асимптотическом поведении крайних членов вариационного ряда.\u001B[0m\n\u001B[0m        ^\u001B[0m\n\u001B[0;31mSyntaxError\u001B[0m\u001B[0;31m:\u001B[0m invalid syntax\n"
     ]
    }
   ],
   "execution_count": 2
  }
 ],
 "metadata": {
  "jupytext": {
   "formats": "ipynb,py:percent"
  },
  "kernelspec": {
   "display_name": "Python 3 (ipykernel)",
   "language": "python",
   "name": "python3"
  },
  "language_info": {
   "codemirror_mode": {
    "name": "ipython",
    "version": 3
   },
   "file_extension": ".py",
   "mimetype": "text/x-python",
   "name": "python",
   "nbconvert_exporter": "python",
   "pygments_lexer": "ipython3",
   "version": "3.10.9"
  }
 },
 "nbformat": 4,
 "nbformat_minor": 5
}
