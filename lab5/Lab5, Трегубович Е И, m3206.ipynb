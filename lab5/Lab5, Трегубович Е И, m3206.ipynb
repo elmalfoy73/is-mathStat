{
  "nbformat": 4,
  "nbformat_minor": 0,
  "metadata": {
    "colab": {
      "provenance": []
    },
    "kernelspec": {
      "name": "python3",
      "display_name": "Python 3"
    },
    "language_info": {
      "name": "python"
    }
  },
  "cells": [
    {
      "cell_type": "markdown",
      "source": [
        "### Трегубович Е.И., m3206\n",
        "#### вариант 4\n",
        "# Лабораторная работа №5"
      ],
      "metadata": {
        "id": "FtDOGazCA2yq"
      }
    },
    {
      "cell_type": "markdown",
      "source": [
        "###Построение модели"
      ],
      "metadata": {
        "id": "utpSsMaSSoRV"
      }
    },
    {
      "cell_type": "code",
      "source": [
        "import pandas as pd\n",
        "import numpy as np\n",
        "from scipy import stats"
      ],
      "metadata": {
        "id": "TViV7RD6FXtg"
      },
      "execution_count": null,
      "outputs": []
    },
    {
      "cell_type": "markdown",
      "source": [
        "Для построения линейной модели воспользуемся методом наименьших квадратов. Разделим данные на зависимую переменную (популярность) и независимые переменные (продолжительность, танцевальность и энергичность). Добавим столбец единиц к матрице X для учёта свободного коэффициента:"
      ],
      "metadata": {
        "id": "zkyLLz09FQdL"
      }
    },
    {
      "cell_type": "code",
      "source": [
        "data = pd.read_csv('song_data.csv')\n",
        "X = data[['song_duration_ms', 'danceability', 'energy']]\n",
        "y = data['song_popularity']\n",
        "X = np.column_stack((np.ones(len(X)), X))"
      ],
      "metadata": {
        "id": "y9FzxnldFens"
      },
      "execution_count": null,
      "outputs": []
    },
    {
      "cell_type": "markdown",
      "source": [
        " Вычислим оценки коэффициентов модели с помощью формулы:\n",
        " $ \\hat{\\beta} = (X^TX)^{-1}X^Ty $. Вычислим остаточную дисперсию как среднеквадратичное отклонение остатков.\n",
        "\n",
        "\n",
        "\n",
        "\n",
        "\n"
      ],
      "metadata": {
        "id": "Sy9FDmvxFcX8"
      }
    },
    {
      "cell_type": "code",
      "source": [
        "beta_hat = np.linalg.inv(X.T @ X) @ X.T @ y\n",
        "y_hat = X @ beta_hat\n",
        "residuals = y - y_hat\n",
        "mse = np.sum(residuals**2) / (len(y) - len(beta_hat))"
      ],
      "metadata": {
        "id": "tLhax0YGFpX9"
      },
      "execution_count": null,
      "outputs": []
    },
    {
      "cell_type": "markdown",
      "source": [
        "Строим доверительные интервалы для коэффициентов модели с помощью t-статистики:"
      ],
      "metadata": {
        "id": "AZxxZQM8GfWF"
      }
    },
    {
      "cell_type": "code",
      "source": [
        "se = np.sqrt(np.diag(mse * np.linalg.inv(X.T @ X)))\n",
        "t = stats.t.ppf(0.975, len(y) - len(beta_hat))\n",
        "ci = np.column_stack((beta_hat - t*se, beta_hat + t*se))"
      ],
      "metadata": {
        "id": "arACN1WOGk6U"
      },
      "execution_count": null,
      "outputs": []
    },
    {
      "cell_type": "markdown",
      "source": [
        "Вычисляем коэффициент детерминации как отношение объяснённой дисперсии к общей дисперсии:"
      ],
      "metadata": {
        "id": "3iJJ_XtZGl4g"
      }
    },
    {
      "cell_type": "code",
      "source": [
        "ssr = np.sum((y_hat - np.mean(y))**2)\n",
        "sst = np.sum((y - np.mean(y))**2)\n",
        "r2 = ssr / sst\n",
        "print(r2)"
      ],
      "metadata": {
        "id": "aimalIMbGoZf",
        "colab": {
          "base_uri": "https://localhost:8080/"
        },
        "outputId": "bd5edddd-f7c3-49e6-e6e2-8858d8f271f4"
      },
      "execution_count": null,
      "outputs": [
        {
          "output_type": "stream",
          "name": "stdout",
          "text": [
            "0.01094657082334394\n"
          ]
        }
      ]
    },
    {
      "cell_type": "markdown",
      "source": [
        "#### Проверка гипотез"
      ],
      "metadata": {
        "id": "RtUKnO5ZGvS3"
      }
    },
    {
      "cell_type": "markdown",
      "source": [
        "1. $H_0$: $\\beta_3$ = 0 (энергичность не влияет на популярность) \\\\\n",
        "$H_A$: $\\beta_3$ > 0 (энергичность положительно связана с популярностью)"
      ],
      "metadata": {
        "id": "W59E8UotG3YS"
      }
    },
    {
      "cell_type": "markdown",
      "source": [
        "Если p-значение меньше уровня значимости 0,05, то отвергаем нулевую гипотезу в пользу альтернативной:"
      ],
      "metadata": {
        "id": "MPKgItMBHBxZ"
      }
    },
    {
      "cell_type": "code",
      "source": [
        "t_stat = beta_hat[3] / se[3]\n",
        "p_val = 1 - stats.t.cdf(t_stat, len(y) - len(beta_hat))\n",
        "alpha = 0.05\n",
        "if p_val < alpha:\n",
        "    print('Отвергаем нулевую гипотезу. Энергия положительно влияет на популярность.')\n",
        "else:\n",
        "    print('Не отвергаем нулевую гипотезу.')"
      ],
      "metadata": {
        "colab": {
          "base_uri": "https://localhost:8080/"
        },
        "id": "l4_iMxtbHTcY",
        "outputId": "2ac08428-b752-4d6c-b39e-32d3c5ccad4b"
      },
      "execution_count": null,
      "outputs": [
        {
          "output_type": "stream",
          "name": "stdout",
          "text": [
            "Не отвергаем нулевую гипотезу.\n"
          ]
        }
      ]
    },
    {
      "cell_type": "markdown",
      "source": [
        "2. $H_0$: $\\beta_1$ = 0 (продолжительность не влияет на популярность) \\\\\n",
        "$H_A$: $\\beta_1$ ≠ 0 (продолжительность связана с популярностью)"
      ],
      "metadata": {
        "id": "soqxF3ImIF8G"
      }
    },
    {
      "cell_type": "markdown",
      "source": [
        "Если p-значение меньше уровня значимости 0,05/2, то отвергаем нулевую гипотезу в пользу альтернативной:"
      ],
      "metadata": {
        "id": "EvdYVSWeIZBK"
      }
    },
    {
      "cell_type": "code",
      "source": [
        "t_stat = beta_hat[1] / se[1]\n",
        "p_val = 2 * (1 - stats.t.cdf(abs(t_stat), len(y) - len(beta_hat)))\n",
        "alpha = 0.05/2\n",
        "if p_val < alpha:\n",
        "    print('Отвергаем нулевую гипотезу. Продолжительность связана с популярностью.')\n",
        "else:\n",
        "    print('Не отвергаем нулевую гипотезу.')"
      ],
      "metadata": {
        "colab": {
          "base_uri": "https://localhost:8080/"
        },
        "id": "CoYlxXxUIaGM",
        "outputId": "2b92f9ae-4f35-47ab-d358-7070e59d2095"
      },
      "execution_count": null,
      "outputs": [
        {
          "output_type": "stream",
          "name": "stdout",
          "text": [
            "Не отвергаем нулевую гипотезу.\n"
          ]
        }
      ]
    },
    {
      "cell_type": "markdown",
      "source": [
        "3. $H_0$: $\\beta_2$ = $\\beta_3$ = 0 (танцевальность и энергичность не влияют на популярность) \\\\\n",
        "$H_A$: хотя бы один из коэффициентов $\\beta_2$ и $\\beta_3$ ≠ 0\n"
      ],
      "metadata": {
        "id": "aOVudKhzI4cC"
      }
    },
    {
      "cell_type": "markdown",
      "source": [
        "Если p-значение меньше уровня значимости 0,05, то отвергаем нулевую гипотезу в пользу альтернативной:"
      ],
      "metadata": {
        "id": "IzYpY8vCJJdn"
      }
    },
    {
      "cell_type": "code",
      "source": [
        "F_stat = (ssr / 2) / (mse * (len(y) - len(beta_hat) - 2))\n",
        "p_val = 1 - stats.f.cdf(F_stat, 2, len(y) - len(beta_hat) - 2)\n",
        "alpha = 0.05\n",
        "if p_val < alpha:\n",
        "    print('Отвергаем нулевую гипотезу. Nанцевальность и энергичность влияют на популярность.')\n",
        "else:\n",
        "    print('Не отвергаем нулевую гипотезу.')"
      ],
      "metadata": {
        "colab": {
          "base_uri": "https://localhost:8080/"
        },
        "id": "nBJZyJhoJMtd",
        "outputId": "677877f8-6f2f-4465-91db-c98dcf445327"
      },
      "execution_count": null,
      "outputs": [
        {
          "output_type": "stream",
          "name": "stdout",
          "text": [
            "Не отвергаем нулевую гипотезу.\n"
          ]
        }
      ]
    },
    {
      "cell_type": "markdown",
      "source": [
        "# На основе полученных результатов можно сделать следующие выводы:\n",
        "\n",
        "- Энергичность не связана с популярностью песни.\n",
        "- Продолжительность песни не оказывает статистически значимого влияния на её популярность.\n",
        "- Танцевальность и энергичность песни не оказывают статистически значимое влияние на её популярность.\n",
        "\n",
        "Коэффициент детерминации довольно низкий, что говорит о том, что модель не объясняет большую часть вариации в данных."
      ],
      "metadata": {
        "id": "zAvzH5RtNqjL"
      }
    }
  ]
}